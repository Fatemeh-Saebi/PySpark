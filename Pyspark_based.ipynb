{
  "nbformat": 4,
  "nbformat_minor": 0,
  "metadata": {
    "colab": {
      "provenance": []
    },
    "kernelspec": {
      "name": "python3",
      "display_name": "Python 3"
    },
    "language_info": {
      "name": "python"
    }
  },
  "cells": [
    {
      "cell_type": "markdown",
      "source": [
        "## Importing Packages and Modules"
      ],
      "metadata": {
        "id": "7788Ph1aLIST"
      }
    },
    {
      "cell_type": "code",
      "execution_count": 1,
      "metadata": {
        "id": "TbuKzh0tfhKD"
      },
      "outputs": [],
      "source": [
        "import os\n",
        "import shutil\n",
        "import zipfile\n",
        "\n",
        "import cv2\n",
        "import numpy as np\n",
        "import matplotlib.pyplot as plt\n",
        "\n",
        "from pyspark.sql import SparkSession\n",
        "from pyspark.sql.functions import col, count, udf\n",
        "from pyspark.sql.types import StructType, StructField, StringType, IntegerType\n",
        "from pyspark.sql.types import ArrayType, FloatType\n",
        "\n",
        "import tensorflow as tf\n"
      ]
    },
    {
      "cell_type": "markdown",
      "source": [
        "## Downloading Dataset from Kaggle"
      ],
      "metadata": {
        "id": "DnEzpCARLBVj"
      }
    },
    {
      "cell_type": "code",
      "source": [
        "# Create the .kaggle directory if it doesn't exist\n",
        "os.makedirs(\"/root/.kaggle\", exist_ok=True)\n",
        "\n",
        "# Move the kaggle.json file\n",
        "shutil.move(\"kaggle.json\", \"/root/.kaggle/\")\n",
        "\n",
        "# Set permissions\n",
        "os.chmod(\"/root/.kaggle/kaggle.json\", 600)"
      ],
      "metadata": {
        "id": "RhmSz0WDfw_n"
      },
      "execution_count": 2,
      "outputs": []
    },
    {
      "cell_type": "code",
      "source": [
        "# Download kaggle dataset\n",
        "!kaggle datasets download -d paultimothymooney/chest-xray-pneumonia"
      ],
      "metadata": {
        "colab": {
          "base_uri": "https://localhost:8080/"
        },
        "id": "wR-2MjEyfzV0",
        "outputId": "3abfc74b-28a8-40ae-c84d-8b5bf460f2ac"
      },
      "execution_count": 3,
      "outputs": [
        {
          "output_type": "stream",
          "name": "stdout",
          "text": [
            "Warning: Looks like you're using an outdated API Version, please consider updating (server 1.7.4.2 / client 1.6.17)\n",
            "Dataset URL: https://www.kaggle.com/datasets/paultimothymooney/chest-xray-pneumonia\n",
            "License(s): other\n",
            "Downloading chest-xray-pneumonia.zip to /content\n",
            "100% 2.29G/2.29G [00:22<00:00, 89.9MB/s]\n",
            "100% 2.29G/2.29G [00:22<00:00, 109MB/s] \n"
          ]
        }
      ]
    },
    {
      "cell_type": "code",
      "source": [
        "# Unzip the dataset\n",
        "with zipfile.ZipFile(\"/content/chest-xray-pneumonia.zip\", 'r') as zip_ref:\n",
        "    zip_ref.extractall(\"dataset\")\n",
        "\n",
        "print(\"Dataset extracted successfully!\")"
      ],
      "metadata": {
        "colab": {
          "base_uri": "https://localhost:8080/"
        },
        "id": "L0piGwOef2iE",
        "outputId": "1817d8ea-167c-4e28-ff76-136df8f79be0"
      },
      "execution_count": 4,
      "outputs": [
        {
          "output_type": "stream",
          "name": "stdout",
          "text": [
            "Dataset extracted successfully!\n"
          ]
        }
      ]
    },
    {
      "cell_type": "markdown",
      "source": [
        "## Splitting Train, Test, Validation Dataset"
      ],
      "metadata": {
        "id": "8lLpue94LbQK"
      }
    },
    {
      "cell_type": "code",
      "source": [
        "# Directories for train,val, test data\n",
        "train_dir = \"/content/dataset/chest_xray/train/\"\n",
        "val_dir = \"/content/dataset/chest_xray/val/\"\n",
        "test_dir = \"/content/dataset/chest_xray/test/\""
      ],
      "metadata": {
        "id": "S83xOtI4f3uc"
      },
      "execution_count": 5,
      "outputs": []
    },
    {
      "cell_type": "code",
      "source": [
        "def extract_img_paths(split_path):\n",
        "    \"\"\"\n",
        "    extract imgs path from train, test, val directories\n",
        "    \"\"\"\n",
        "\n",
        "    imgs = []\n",
        "    name_to_label = {\"NORMAL\":0,\n",
        "                \"PNEUMONIA\":1}\n",
        "\n",
        "    for folder in os.listdir(split_path):\n",
        "        for img_path in os.listdir(os.path.join(split_path, folder)):\n",
        "            if img_path.endswith(\".jpeg\"):\n",
        "                imgs.append((os.path.join(split_path, folder, img_path), name_to_label[folder]))\n",
        "\n",
        "    return imgs"
      ],
      "metadata": {
        "id": "YqBzRr9sgNz8"
      },
      "execution_count": 6,
      "outputs": []
    },
    {
      "cell_type": "code",
      "source": [
        "# Store all image paths and their labels to list of tuples\n",
        "train_imgs = extract_img_paths(train_dir)\n",
        "val_imgs = extract_img_paths(val_dir)\n",
        "test_imgs = extract_img_paths(test_dir)"
      ],
      "metadata": {
        "id": "8-MraLksgW8M"
      },
      "execution_count": 7,
      "outputs": []
    },
    {
      "cell_type": "code",
      "source": [
        "print(train_imgs[0:3])\n",
        "print(test_imgs[0:3])\n",
        "print(val_imgs[0:3])"
      ],
      "metadata": {
        "colab": {
          "base_uri": "https://localhost:8080/"
        },
        "id": "DOrN48bagcZE",
        "outputId": "82db2581-ac46-4d1e-e017-d438e9944e3b"
      },
      "execution_count": null,
      "outputs": [
        {
          "output_type": "stream",
          "name": "stdout",
          "text": [
            "[('/content/dataset/chest_xray/train/NORMAL/IM-0476-0001.jpeg', 0), ('/content/dataset/chest_xray/train/NORMAL/NORMAL2-IM-0914-0001.jpeg', 0), ('/content/dataset/chest_xray/train/NORMAL/NORMAL2-IM-0838-0001.jpeg', 0)]\n",
            "[('/content/dataset/chest_xray/test/NORMAL/NORMAL2-IM-0332-0001.jpeg', 0), ('/content/dataset/chest_xray/test/NORMAL/IM-0039-0001.jpeg', 0), ('/content/dataset/chest_xray/test/NORMAL/NORMAL2-IM-0173-0001-0001.jpeg', 0)]\n",
            "[('/content/dataset/chest_xray/val/NORMAL/NORMAL2-IM-1440-0001.jpeg', 0), ('/content/dataset/chest_xray/val/NORMAL/NORMAL2-IM-1430-0001.jpeg', 0), ('/content/dataset/chest_xray/val/NORMAL/NORMAL2-IM-1442-0001.jpeg', 0)]\n"
          ]
        }
      ]
    },
    {
      "cell_type": "markdown",
      "source": [
        "## Start Spark Session"
      ],
      "metadata": {
        "id": "UH7ZBQ34LoSL"
      }
    },
    {
      "cell_type": "code",
      "source": [
        "# Start a spark session\n",
        "spark = SparkSession.builder.appName(\"Chest X-Ray Classification\").master('local[*]').config(\"spark.driver.memory\", \"15g\").getOrCreate()"
      ],
      "metadata": {
        "id": "XKFxf5tsUdwl"
      },
      "execution_count": 8,
      "outputs": []
    },
    {
      "cell_type": "markdown",
      "source": [
        "## Convert Image Paths to Dataframe"
      ],
      "metadata": {
        "id": "s0tBAr8YMC96"
      }
    },
    {
      "cell_type": "code",
      "source": [
        "def imgs_path_to_df(imgs):\n",
        "  \"\"\"\n",
        "  Convert list of tuples to dataframe with two columns, image_path and label\n",
        "  \"\"\"\n",
        "\n",
        "  schema = StructType([StructField(\"image_path\", StringType(), True),\n",
        "                       StructField(\"label\", IntegerType(), True)])\n",
        "\n",
        "  df = spark.createDataFrame(imgs, schema=schema)\n",
        "\n",
        "  return df\n"
      ],
      "metadata": {
        "id": "7t1xdBPXhQvb"
      },
      "execution_count": 9,
      "outputs": []
    },
    {
      "cell_type": "code",
      "source": [
        "# Store all image paths and labels to dataframe\n",
        "train_df = imgs_path_to_df(train_imgs)\n",
        "val_df = imgs_path_to_df(val_imgs)\n",
        "test_df = imgs_path_to_df(test_imgs)"
      ],
      "metadata": {
        "id": "0bRkZjTGjMmL"
      },
      "execution_count": 10,
      "outputs": []
    },
    {
      "cell_type": "code",
      "source": [
        "train_df.take(4)"
      ],
      "metadata": {
        "colab": {
          "base_uri": "https://localhost:8080/"
        },
        "id": "RYI9Tp8NjXnL",
        "outputId": "3434fb1d-6d9b-474f-c27a-6ecb674e1d73"
      },
      "execution_count": null,
      "outputs": [
        {
          "output_type": "execute_result",
          "data": {
            "text/plain": [
              "[Row(image_path='/content/dataset/chest_xray/train/NORMAL/IM-0476-0001.jpeg', label=0),\n",
              " Row(image_path='/content/dataset/chest_xray/train/NORMAL/NORMAL2-IM-0914-0001.jpeg', label=0),\n",
              " Row(image_path='/content/dataset/chest_xray/train/NORMAL/NORMAL2-IM-0838-0001.jpeg', label=0),\n",
              " Row(image_path='/content/dataset/chest_xray/train/NORMAL/IM-0240-0001.jpeg', label=0)]"
            ]
          },
          "metadata": {},
          "execution_count": 12
        }
      ]
    },
    {
      "cell_type": "code",
      "source": [
        "# Count of each class\n",
        "train_df.groupBy(\"label\").count().show()"
      ],
      "metadata": {
        "colab": {
          "base_uri": "https://localhost:8080/"
        },
        "id": "Ys1XQd4kjy4r",
        "outputId": "fde213fc-abef-4b0e-8768-1e6acdd30540"
      },
      "execution_count": null,
      "outputs": [
        {
          "output_type": "stream",
          "name": "stdout",
          "text": [
            "+-----+-----+\n",
            "|label|count|\n",
            "+-----+-----+\n",
            "|    1| 3875|\n",
            "|    0| 1341|\n",
            "+-----+-----+\n",
            "\n"
          ]
        }
      ]
    },
    {
      "cell_type": "code",
      "source": [
        "val_df.groupBy(\"label\").count().show()"
      ],
      "metadata": {
        "colab": {
          "base_uri": "https://localhost:8080/"
        },
        "id": "068cTgaVmJ4B",
        "outputId": "1daf1bfc-a8b9-480a-b5f4-65fd0d449e5c"
      },
      "execution_count": null,
      "outputs": [
        {
          "output_type": "stream",
          "name": "stdout",
          "text": [
            "+-----+-----+\n",
            "|label|count|\n",
            "+-----+-----+\n",
            "|    1|    8|\n",
            "|    0|    8|\n",
            "+-----+-----+\n",
            "\n"
          ]
        }
      ]
    },
    {
      "cell_type": "code",
      "source": [
        "test_df.groupBy(\"label\").count().show()"
      ],
      "metadata": {
        "colab": {
          "base_uri": "https://localhost:8080/"
        },
        "id": "mL1s1xa4j1rK",
        "outputId": "f0d1059a-c491-4f6e-a9d3-0a6f9600f053"
      },
      "execution_count": null,
      "outputs": [
        {
          "output_type": "stream",
          "name": "stdout",
          "text": [
            "+-----+-----+\n",
            "|label|count|\n",
            "+-----+-----+\n",
            "|    1|  390|\n",
            "|    0|  234|\n",
            "+-----+-----+\n",
            "\n"
          ]
        }
      ]
    },
    {
      "cell_type": "markdown",
      "source": [
        "## Visualizing Random Images"
      ],
      "metadata": {
        "id": "PXwErC-UMeUy"
      }
    },
    {
      "cell_type": "code",
      "source": [
        "def plot_imgs(df, num_images_to_plot=10):\n",
        "  \"\"\"\n",
        "  Plots some random images from df, num_images_to_plot determines the number of images to be plot\n",
        "  \"\"\"\n",
        "  label_to_name = {0:\"NORMAL\",\n",
        "                   1:\"PNEUMONIA\"}\n",
        "\n",
        "  rdd = df.rdd\n",
        "  random_rows = rdd.takeSample(False, num_images_to_plot)\n",
        "\n",
        "  plt.figure(figsize=(10, 6))\n",
        "  plt.subplots_adjust(left=0.1,\n",
        "                    bottom=0.1,\n",
        "                    top=0.3, # padding to the top in order to have a clear subplots\n",
        "                    right=0.9,\n",
        "                    wspace=0.4,\n",
        "                    hspace=0.4)\n",
        "\n",
        "  i = 0\n",
        "  for img_path, label in random_rows:\n",
        "    img = plt.imread(img_path)\n",
        "    img = cv2.resize(img, (224, 224))\n",
        "    plt.subplot(1, num_images_to_plot, i + 1)\n",
        "    plt.imshow(img, cmap=plt.cm.bone)\n",
        "    plt.title(label_to_name[label], fontsize=9)\n",
        "    plt.axis(\"off\")\n",
        "    i += 1\n",
        "\n",
        "  plt.show()"
      ],
      "metadata": {
        "id": "6QTKTSmxq5BX"
      },
      "execution_count": 11,
      "outputs": []
    },
    {
      "cell_type": "code",
      "source": [
        "# Plot some images from train dataset\n",
        "plot_imgs(train_df, 8)"
      ],
      "metadata": {
        "colab": {
          "base_uri": "https://localhost:8080/",
          "height": 129
        },
        "id": "7a2fGvH5H5v9",
        "outputId": "ab3a51dd-b055-4f29-ea92-dd23e322091a"
      },
      "execution_count": null,
      "outputs": [
        {
          "output_type": "display_data",
          "data": {
            "text/plain": [
              "<Figure size 1000x600 with 8 Axes>"
            ],
            "image/png": "[encoded data removed]"
          },
          "metadata": {}
        }
      ]
    },
    {
      "cell_type": "markdown",
      "source": [
        "## Pixel Extraction from Images"
      ],
      "metadata": {
        "id": "C5d0o_ScZ7Hz"
      }
    },
    {
      "cell_type": "code",
      "source": [
        "from keras.applications.vgg16 import VGG16\n",
        "from keras.applications.vgg16 import preprocess_input\n",
        "\n",
        "def pixel_extraction(path):\n",
        "  \"\"\"\n",
        "  Get all pixels of images and return them as a list\n",
        "  \"\"\"\n",
        "\n",
        "  img = tf.keras.preprocessing.image.load_img(path, target_size = (224, 224)) # resize image size to (224, 224)\n",
        "  img = tf.keras.preprocessing.image.img_to_array(img)\n",
        "  img = np.expand_dims(img, axis=0)\n",
        "  # img = tf.keras.applications.resnet50.preprocess_input(img)\n",
        "  img = img / 255.0   # normalize pixels\n",
        "  img = preprocess_input(img)\n",
        "\n",
        "  model = VGG16(weights='imagenet', include_top=False)\n",
        "  features = model.predict(img)\n",
        "\n",
        "  return features.flatten().tolist()\n"
      ],
      "metadata": {
        "id": "rj3Ds2bZWFuG"
      },
      "execution_count": 16,
      "outputs": []
    },
    {
      "cell_type": "code",
      "source": [
        "# wrapper user-defined function\n",
        "pixels = udf(pixel_extraction, ArrayType(FloatType()))"
      ],
      "metadata": {
        "id": "A3A3Na1NYxAN"
      },
      "execution_count": 17,
      "outputs": []
    },
    {
      "cell_type": "markdown",
      "source": [
        "## Add column features to each dataframe"
      ],
      "metadata": {
        "id": "On339lw3cNVC"
      }
    },
    {
      "cell_type": "code",
      "source": [
        "# Add column 'features' to each dataframe that contains pixels of images\n",
        "train_df = train_df.withColumn(\"features\", pixels(train_df.image_path))\n",
        "val_df = val_df.withColumn(\"features\", pixels(val_df.image_path))\n",
        "test_df = test_df.withColumn(\"features\", pixels(test_df.image_path))"
      ],
      "metadata": {
        "id": "5LPkDThQXZsD"
      },
      "execution_count": 18,
      "outputs": []
    },
    {
      "cell_type": "code",
      "source": [
        "train_df.show(3)"
      ],
      "metadata": {
        "colab": {
          "base_uri": "https://localhost:8080/"
        },
        "id": "driFZ2aTZDMh",
        "outputId": "32b3ca51-056e-4418-8a8d-c78584989bd5"
      },
      "execution_count": 19,
      "outputs": [
        {
          "output_type": "stream",
          "name": "stdout",
          "text": [
            "+--------------------+-----+--------------------+\n",
            "|          image_path|label|            features|\n",
            "+--------------------+-----+--------------------+\n",
            "|/content/dataset/...|    0|[0.0, 0.0, 0.0, 0...|\n",
            "|/content/dataset/...|    0|[0.0, 0.0, 0.0, 0...|\n",
            "|/content/dataset/...|    0|[0.0, 0.0, 0.0, 0...|\n",
            "+--------------------+-----+--------------------+\n",
            "only showing top 3 rows\n",
            "\n"
          ]
        }
      ]
    },
    {
      "cell_type": "markdown",
      "source": [
        "## Drop column image_path from each dataframe"
      ],
      "metadata": {
        "id": "pJzqZO40cW4T"
      }
    },
    {
      "cell_type": "code",
      "source": [
        "# drop and remove column 'image_path' from each dataframe\n",
        "train_df = train_df.drop(\"image_path\")\n",
        "val_df = val_df.drop(\"image_path\")\n",
        "test_df = test_df.drop(\"image_path\")"
      ],
      "metadata": {
        "id": "EGnzs6dRbGM8"
      },
      "execution_count": 20,
      "outputs": []
    },
    {
      "cell_type": "code",
      "source": [
        "train_df.show(3)"
      ],
      "metadata": {
        "colab": {
          "base_uri": "https://localhost:8080/"
        },
        "id": "tnYd--Xzbpk1",
        "outputId": "a819c8c0-944d-4c26-db67-e3404e9cc554"
      },
      "execution_count": 21,
      "outputs": [
        {
          "output_type": "stream",
          "name": "stdout",
          "text": [
            "+-----+--------------------+\n",
            "|label|            features|\n",
            "+-----+--------------------+\n",
            "|    0|[0.0, 0.0, 0.0, 0...|\n",
            "|    0|[0.0, 0.0, 0.0, 0...|\n",
            "|    0|[0.0, 0.0, 0.0, 0...|\n",
            "+-----+--------------------+\n",
            "only showing top 3 rows\n",
            "\n"
          ]
        }
      ]
    },
    {
      "cell_type": "markdown",
      "source": [
        "## Convert column features to vector"
      ],
      "metadata": {
        "id": "SZRKzfFcsbfx"
      }
    },
    {
      "cell_type": "code",
      "source": [
        "from pyspark.ml.linalg import Vectors, VectorUDT\n",
        "\n",
        "def array_to_vector(feature):\n",
        "  \"\"\"\n",
        "  Cast column features to vector\n",
        "\n",
        "  \"\"\"\n",
        "  return Vectors.dense(feature)\n"
      ],
      "metadata": {
        "id": "0THhwx0ewyTn"
      },
      "execution_count": 22,
      "outputs": []
    },
    {
      "cell_type": "code",
      "source": [
        "array_to_vector = udf(array_to_vector, VectorUDT())"
      ],
      "metadata": {
        "id": "EtsoZbHixTP3"
      },
      "execution_count": 23,
      "outputs": []
    },
    {
      "cell_type": "code",
      "source": [
        "# Convert column 'features' into Vector format\n",
        "train_df = train_df.withColumn(\"features\", array_to_vector(\"features\"))\n",
        "val_df = val_df.withColumn(\"features\", array_to_vector(\"features\"))\n",
        "test_df = test_df.withColumn(\"features\", array_to_vector(\"features\"))"
      ],
      "metadata": {
        "id": "-sIhZ0APeLEp"
      },
      "execution_count": 24,
      "outputs": []
    },
    {
      "cell_type": "code",
      "source": [
        "train_df.show(3)"
      ],
      "metadata": {
        "colab": {
          "base_uri": "https://localhost:8080/"
        },
        "id": "kYmPUG9Uy3zP",
        "outputId": "91bf7e23-fc6c-4fe8-c79e-0289d8e75183"
      },
      "execution_count": 25,
      "outputs": [
        {
          "output_type": "stream",
          "name": "stdout",
          "text": [
            "+-----+--------------------+\n",
            "|label|            features|\n",
            "+-----+--------------------+\n",
            "|    0|[0.0,0.0,0.0,0.0,...|\n",
            "|    0|[0.0,0.0,0.0,0.0,...|\n",
            "|    0|[0.0,0.0,0.0,0.0,...|\n",
            "+-----+--------------------+\n",
            "only showing top 3 rows\n",
            "\n"
          ]
        }
      ]
    },
    {
      "cell_type": "markdown",
      "source": [
        "## Assemble column features to column features_vector"
      ],
      "metadata": {
        "id": "zuC4_vdeswQp"
      }
    },
    {
      "cell_type": "code",
      "source": [
        "from pyspark.ml.feature import VectorAssembler\n",
        "\n",
        "vector_assembler = VectorAssembler(inputCols=[\"features\"], outputCol=\"features_vector\")\n",
        "\n",
        "# Assemble column 'features' into 'features_vector'\n",
        "train_df = vector_assembler.transform(train_df).select(\"features_vector\", \"label\")\n",
        "val_df = vector_assembler.transform(val_df).select(\"features_vector\", \"label\")\n",
        "test_df = vector_assembler.transform(test_df).select(\"features_vector\", \"label\")"
      ],
      "metadata": {
        "id": "Fs574MuMzEP1"
      },
      "execution_count": 26,
      "outputs": []
    },
    {
      "cell_type": "code",
      "source": [
        "train_df.show(5)"
      ],
      "metadata": {
        "colab": {
          "base_uri": "https://localhost:8080/"
        },
        "id": "kIMb1avG0fSz",
        "outputId": "63123370-1bca-4c28-801c-ae05ae2cd9f1"
      },
      "execution_count": 27,
      "outputs": [
        {
          "output_type": "stream",
          "name": "stdout",
          "text": [
            "+--------------------+-----+\n",
            "|     features_vector|label|\n",
            "+--------------------+-----+\n",
            "|(25088,[44,113,15...|    0|\n",
            "|(25088,[44,113,15...|    0|\n",
            "|(25088,[44,113,13...|    0|\n",
            "|(25088,[44,113,13...|    0|\n",
            "|(25088,[44,113,13...|    0|\n",
            "+--------------------+-----+\n",
            "only showing top 5 rows\n",
            "\n"
          ]
        }
      ]
    },
    {
      "cell_type": "markdown",
      "source": [
        "## Models"
      ],
      "metadata": {
        "id": "QSORPiLsZL5_"
      }
    },
    {
      "cell_type": "code",
      "source": [
        "from pyspark.ml.classification import LogisticRegression, RandomForestClassifier\n",
        "from pyspark.ml.evaluation import MulticlassClassificationEvaluator\n"
      ],
      "metadata": {
        "id": "E5xxNN4WyPKB"
      },
      "execution_count": null,
      "outputs": []
    },
    {
      "cell_type": "code",
      "source": [
        "# Create an object to evalute each model performance\n",
        "evaluator = MulticlassClassificationEvaluator(labelCol = \"label\", predictionCol = \"prediction\", metricName = \"accuracy\")"
      ],
      "metadata": {
        "id": "fCWCFN-c1dmd"
      },
      "execution_count": 28,
      "outputs": []
    },
    {
      "cell_type": "markdown",
      "source": [
        "## Logistic Regression"
      ],
      "metadata": {
        "id": "4MlTV08strcQ"
      }
    },
    {
      "cell_type": "code",
      "source": [
        "# Create a Logistic Regression Model\n",
        "lr = LogisticRegression(featuresCol = \"features_vector\", labelCol = \"label\")\n",
        "\n",
        "# Train the model\n",
        "lr_model = lr.fit(train_df)\n",
        "\n",
        "# Predict on val_df\n",
        "lr_predictions = lr_model.transform(val_df)\n",
        "\n",
        "# Accuracy for val_df\n",
        "lr_acc = evaluator.evaluate(lr_predictions)\n",
        "\n",
        "print(f\"Validation Accuracy - Logistic Regression: {lr_acc * 100:.2f}%\")\n"
      ],
      "metadata": {
        "id": "51NbpVPh1qRE",
        "colab": {
          "base_uri": "https://localhost:8080/"
        },
        "outputId": "644ee834-2ed4-4edf-cefc-db845be1236d"
      },
      "execution_count": 29,
      "outputs": [
        {
          "output_type": "stream",
          "name": "stdout",
          "text": [
            "Validation Accuracy - Logistic Regression: 100.00%\n"
          ]
        }
      ]
    },
    {
      "cell_type": "code",
      "source": [
        "# evaluate on test_df\n",
        "predictions = lr_model.transform(test_df)\n",
        "\n",
        "# accuracy for test_df\n",
        "accuracy = evaluator.evaluate(predictions)\n",
        "\n",
        "print(f\"The accuracy of the logistic regression model for test_df is: {accuracy}\")"
      ],
      "metadata": {
        "id": "9OSXg391gn5o",
        "colab": {
          "base_uri": "https://localhost:8080/"
        },
        "outputId": "1a3f2ea9-bfc7-4ca0-db0e-99d6b85d86f6"
      },
      "execution_count": 31,
      "outputs": [
        {
          "output_type": "stream",
          "name": "stdout",
          "text": [
            "The accuracy of the logistic regression model for test_df is: 0.7564102564102564\n"
          ]
        }
      ]
    },
    {
      "cell_type": "markdown",
      "source": [
        "## Random Forest"
      ],
      "metadata": {
        "id": "mDtzqJnFt0Mr"
      }
    },
    {
      "cell_type": "code",
      "source": [
        "rf = RandomForestClassifier(featuresCol=\"features_vector\", labelCol=\"label\")\n",
        "\n",
        "# train model\n",
        "rf_model = rf.fit(train_df)\n",
        "\n",
        "# Predict on val_df\n",
        "rf_predictions = rf_model.transform(val_df)\n",
        "\n",
        "# Accuracy for val_df\n",
        "rf_acc = evaluator.evaluate(rf_predictions)\n",
        "\n",
        "print(f\"Validation Accuracy - Random Forest: {rf_acc * 100:.2f}%\")"
      ],
      "metadata": {
        "id": "DBU1LSZltX5g"
      },
      "execution_count": null,
      "outputs": []
    },
    {
      "cell_type": "code",
      "source": [
        "# evaluate on test_df\n",
        "predictions = rf_model.transform(test_df)\n",
        "\n",
        "# accuracy for test_df\n",
        "accuracy = evaluator.evaluate(predictions)\n",
        "\n",
        "print(f\"The accuracy of the Random Forest model for test_df is: {accuracy}\")"
      ],
      "metadata": {
        "id": "vDPniahAvDQo"
      },
      "execution_count": null,
      "outputs": []
    }
  ]
}